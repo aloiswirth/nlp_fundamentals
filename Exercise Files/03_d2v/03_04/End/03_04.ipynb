{
 "cells": [
  {
   "cell_type": "markdown",
   "metadata": {},
   "source": [
    "# doc2vec: How To Prep Document Vectors For Modeling"
   ]
  },
  {
   "cell_type": "markdown",
   "metadata": {},
   "source": [
    "### Train Our Own Model"
   ]
  },
  {
   "cell_type": "code",
   "execution_count": 3,
   "metadata": {},
   "outputs": [],
   "source": [
    "# Read in data, clean it, split it into train/test, and then train a doc2vec model\n",
    "import gensim\n",
    "import pandas as pd\n",
    "from sklearn.model_selection import train_test_split\n",
    "pd.set_option('display.max_colwidth', 100)\n",
    "\n",
    "messages = pd.read_csv('../../../data/spam.csv', encoding='latin-1')\n",
    "messages = messages.drop(labels = [\"Unnamed: 2\", \"Unnamed: 3\", \"Unnamed: 4\"], axis = 1)\n",
    "messages.columns = [\"label\", \"text\"]\n",
    "messages['text_clean'] = messages['text'].apply(lambda x: gensim.utils.simple_preprocess(x))\n",
    "\n",
    "X_train, X_test, y_train, y_test = train_test_split(messages['text_clean'],\n",
    "                                                    messages['label'], test_size=0.2)\n",
    "\n",
    "tagged_docs_tr = [gensim.models.doc2vec.TaggedDocument(v, [i]) for i, v in enumerate(X_train)]\n",
    "\n",
    "d2v_model = gensim.models.Doc2Vec(tagged_docs_tr,\n",
    "                                  vector_size=100,\n",
    "                                  window=2,\n",
    "                                  min_count=2)"
   ]
  },
  {
   "cell_type": "code",
   "execution_count": 4,
   "metadata": {},
   "outputs": [
    {
     "data": {
      "text/plain": [
       "array([-0.01066896,  0.01566895,  0.00142194, -0.00167711,  0.00701121,\n",
       "       -0.0330531 ,  0.00835054,  0.04394748, -0.02874464, -0.0181323 ,\n",
       "       -0.01095938, -0.02051019, -0.00598317,  0.00456753,  0.01031762,\n",
       "       -0.02106267,  0.01338805, -0.01392957,  0.00055323, -0.03240522,\n",
       "        0.01064136,  0.00143415,  0.02011607, -0.01608839, -0.00990354,\n",
       "        0.00183104, -0.01621856, -0.00504343, -0.00943476, -0.00790128,\n",
       "        0.02591329,  0.00227647,  0.0058363 , -0.00398631,  0.00540003,\n",
       "        0.01886241,  0.0013208 , -0.01003852, -0.00100697, -0.02884805,\n",
       "        0.00745457, -0.0171964 , -0.00014773, -0.0036658 ,  0.00315243,\n",
       "       -0.00200356, -0.00989692, -0.00586368,  0.00551255,  0.0193392 ,\n",
       "        0.00906557, -0.00590746,  0.00796474, -0.00130487, -0.01796295,\n",
       "        0.00845748,  0.00245883,  0.00422488, -0.01658403,  0.00166272,\n",
       "        0.00447718, -0.00296431, -0.00931085, -0.01106139, -0.02289169,\n",
       "        0.01918342,  0.01144955,  0.01200264, -0.02178341,  0.01152289,\n",
       "       -0.00111946,  0.00163067,  0.02801561, -0.00132193,  0.02696435,\n",
       "        0.00473108,  0.00574076,  0.00124063, -0.01424048,  0.00668631,\n",
       "       -0.01178711, -0.00634399, -0.01757575,  0.02887413, -0.00489462,\n",
       "       -0.00077091,  0.0053502 ,  0.00135026,  0.03764737,  0.0104295 ,\n",
       "        0.02854692,  0.00943822, -0.00121407,  0.00419795,  0.03412319,\n",
       "        0.02018626,  0.01020736, -0.02188271,  0.01023953, -0.00094182],\n",
       "      dtype=float32)"
      ]
     },
     "execution_count": 4,
     "metadata": {},
     "output_type": "execute_result"
    }
   ],
   "source": [
    "# What does a document vector look like again?\n",
    "d2v_model.infer_vector(['convert', 'words', 'to', 'vectors'])"
   ]
  },
  {
   "cell_type": "code",
   "execution_count": 5,
   "metadata": {},
   "outputs": [],
   "source": [
    "# How do we prepare these vectors to be used in a machine learning model?\n",
    "vectors = [[d2v_model.infer_vector(words)] for words in X_test]"
   ]
  },
  {
   "cell_type": "code",
   "execution_count": 6,
   "metadata": {},
   "outputs": [
    {
     "data": {
      "text/plain": [
       "[array([-0.0423329 ,  0.04753733,  0.01907691, -0.0243029 ,  0.03964424,\n",
       "        -0.12553057,  0.01895039,  0.19128963, -0.12323486, -0.02571414,\n",
       "        -0.02595935, -0.07850483, -0.02085474,  0.03134756,  0.04028377,\n",
       "        -0.09835619,  0.03939414, -0.07696181,  0.00367253, -0.13758098,\n",
       "         0.03665064,  0.00474226,  0.06262276, -0.09305781, -0.03892053,\n",
       "        -0.00239084, -0.06222324, -0.02271824, -0.05013494, -0.02742428,\n",
       "         0.10650801, -0.00987155,  0.01701421,  0.01003167,  0.01567598,\n",
       "         0.0942995 , -0.01802528, -0.05706133, -0.02530632, -0.12638801,\n",
       "         0.02343461, -0.05536461,  0.00410083,  0.00460904,  0.02120467,\n",
       "        -0.02435267, -0.04407908, -0.03554843,  0.00759762,  0.06068951,\n",
       "         0.04500799, -0.03221933,  0.04974123,  0.01357936, -0.09164128,\n",
       "         0.06035046,  0.02462837,  0.02337646, -0.05429082,  0.02498913,\n",
       "         0.02490889, -0.01165802, -0.03756445, -0.01483689, -0.1103493 ,\n",
       "         0.0632799 ,  0.08386902,  0.0168625 , -0.08776841,  0.05442667,\n",
       "        -0.0284836 ,  0.02388152,  0.10087647, -0.00096897,  0.12196536,\n",
       "         0.02908972,  0.00701393, -0.00552488, -0.07669224,  0.03721757,\n",
       "        -0.06689855, -0.02471226, -0.05183963,  0.126788  , -0.01504809,\n",
       "         0.00364698,  0.00225467,  0.01398187,  0.15957247,  0.06631432,\n",
       "         0.12190084,  0.06123067, -0.0139212 ,  0.02769031,  0.13026936,\n",
       "         0.06647919,  0.05799183, -0.08496495,  0.05907297,  0.00149569],\n",
       "       dtype=float32)]"
      ]
     },
     "execution_count": 6,
     "metadata": {},
     "output_type": "execute_result"
    }
   ],
   "source": [
    "vectors[0]"
   ]
  },
  {
   "cell_type": "code",
   "execution_count": null,
   "metadata": {},
   "outputs": [],
   "source": []
  }
 ],
 "metadata": {
  "kernelspec": {
   "display_name": "Python 3",
   "language": "python",
   "name": "python3"
  },
  "language_info": {
   "codemirror_mode": {
    "name": "ipython",
    "version": 3
   },
   "file_extension": ".py",
   "mimetype": "text/x-python",
   "name": "python",
   "nbconvert_exporter": "python",
   "pygments_lexer": "ipython3",
   "version": "3.12.1"
  }
 },
 "nbformat": 4,
 "nbformat_minor": 1
}
